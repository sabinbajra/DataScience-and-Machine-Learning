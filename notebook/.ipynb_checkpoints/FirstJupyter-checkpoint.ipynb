{
 "cells": [
  {
   "cell_type": "code",
   "execution_count": 1,
   "id": "dfdf5039",
   "metadata": {},
   "outputs": [
    {
     "name": "stdout",
     "output_type": "stream",
     "text": [
      "Hello, World!\n"
     ]
    }
   ],
   "source": [
    "print(\"Hello, World!\")"
   ]
  },
  {
   "cell_type": "code",
   "execution_count": 5,
   "id": "1a96aa1f",
   "metadata": {},
   "outputs": [],
   "source": [
    "def printname(name):\n",
    "    print(\"Your name is\" , name) "
   ]
  },
  {
   "cell_type": "code",
   "execution_count": 7,
   "id": "622f8583",
   "metadata": {},
   "outputs": [
    {
     "name": "stdout",
     "output_type": "stream",
     "text": [
      "Your name is Sabin Bajracharya\n"
     ]
    }
   ],
   "source": [
    " printname(\"Sabin Bajracharya\")"
   ]
  },
  {
   "cell_type": "code",
   "execution_count": 9,
   "id": "65048abd",
   "metadata": {},
   "outputs": [],
   "source": [
    "def square(number):\n",
    "    print(\"Calculating the square of the number\")\n",
    "    return number ** 2"
   ]
  },
  {
   "cell_type": "code",
   "execution_count": 10,
   "id": "930b3907",
   "metadata": {},
   "outputs": [
    {
     "name": "stdout",
     "output_type": "stream",
     "text": [
      "Enter integer number::12\n",
      "Calculating the square of the number\n",
      "144\n"
     ]
    }
   ],
   "source": [
    "a = int(input(\"Enter integer number::\"))\n",
    "print(square(a))"
   ]
  },
  {
   "cell_type": "code",
   "execution_count": 16,
   "id": "c36381e7",
   "metadata": {},
   "outputs": [
    {
     "name": "stdout",
     "output_type": "stream",
     "text": [
      "Inside the myFunction\n"
     ]
    }
   ],
   "source": [
    "def myFunction():\n",
    "    print(\"Inside the myFunction\")\n",
    "    \n",
    "myFunction()"
   ]
  },
  {
   "cell_type": "code",
   "execution_count": 18,
   "id": "9a968347",
   "metadata": {},
   "outputs": [],
   "source": [
    "def printString(str):\n",
    "    print(\"The enter string is \", str)"
   ]
  },
  {
   "cell_type": "code",
   "execution_count": 19,
   "id": "c66dbbe2",
   "metadata": {},
   "outputs": [
    {
     "name": "stdout",
     "output_type": "stream",
     "text": [
      "The enter string is  Sabin\n",
      "The enter string is  Hello\n",
      "The enter string is  Sabin is my name\n",
      "The enter string is  I am practising function\n"
     ]
    }
   ],
   "source": [
    "printString(\"Sabin\")\n",
    "printString(\"Hello\")\n",
    "printString(\"Sabin is my name\")\n",
    "printString(\"I am practising function\")"
   ]
  },
  {
   "cell_type": "code",
   "execution_count": 22,
   "id": "8f333245",
   "metadata": {},
   "outputs": [],
   "source": [
    "def multipleArguments(fname,lname,address,telephone,email):\n",
    "    print(\"Your name is \" + fname + \" \" + lname)\n",
    "    print(\"Address:: \" + address)\n",
    "    print(\"Telephone:: \" , telephone)\n",
    "    print(\"Email:: \" + email)"
   ]
  },
  {
   "cell_type": "code",
   "execution_count": 23,
   "id": "a10f8c30",
   "metadata": {},
   "outputs": [
    {
     "name": "stdout",
     "output_type": "stream",
     "text": [
      "Your name is sabin Bajracharya\n",
      "Address:: Lagan Tole,Kathmandu,Nepal\n",
      "Telephone::  215276\n",
      "Email:: sabin1129@hotmail.com\n"
     ]
    }
   ],
   "source": [
    "multipleArguments(\"sabin\",\"Bajracharya\",\"Lagan Tole,Kathmandu,Nepal\",215276,\"sabin1129@hotmail.com\")"
   ]
  },
  {
   "cell_type": "code",
   "execution_count": null,
   "id": "b45bfab0",
   "metadata": {},
   "outputs": [],
   "source": []
  }
 ],
 "metadata": {
  "kernelspec": {
   "display_name": "Python 3 (ipykernel)",
   "language": "python",
   "name": "python3"
  },
  "language_info": {
   "codemirror_mode": {
    "name": "ipython",
    "version": 3
   },
   "file_extension": ".py",
   "mimetype": "text/x-python",
   "name": "python",
   "nbconvert_exporter": "python",
   "pygments_lexer": "ipython3",
   "version": "3.9.5"
  }
 },
 "nbformat": 4,
 "nbformat_minor": 5
}
