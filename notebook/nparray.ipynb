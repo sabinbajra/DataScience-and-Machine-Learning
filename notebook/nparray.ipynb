{
 "cells": [
  {
   "cell_type": "code",
   "execution_count": 1,
   "id": "d481ee49",
   "metadata": {},
   "outputs": [],
   "source": [
    "import numpy as np\n"
   ]
  },
  {
   "cell_type": "code",
   "execution_count": 2,
   "id": "0d1990e8",
   "metadata": {},
   "outputs": [
    {
     "data": {
      "text/plain": [
       "array([1, 2, 3, 4, 5])"
      ]
     },
     "execution_count": 2,
     "metadata": {},
     "output_type": "execute_result"
    }
   ],
   "source": [
    "a = np.array([1,2,3,4,5])\n",
    "a"
   ]
  },
  {
   "cell_type": "code",
   "execution_count": 4,
   "id": "7418e1d6",
   "metadata": {},
   "outputs": [
    {
     "name": "stdout",
     "output_type": "stream",
     "text": [
      "1\n",
      "2\n",
      "3\n",
      "4\n",
      "5\n"
     ]
    }
   ],
   "source": [
    "for i in a:\n",
    "    print(a[i-1])"
   ]
  },
  {
   "cell_type": "code",
   "execution_count": 5,
   "id": "ed192891",
   "metadata": {},
   "outputs": [
    {
     "name": "stdout",
     "output_type": "stream",
     "text": [
      "<class 'numpy.int32'>\n",
      "<class 'numpy.int32'>\n",
      "<class 'numpy.int32'>\n",
      "<class 'numpy.int32'>\n",
      "<class 'numpy.int32'>\n"
     ]
    }
   ],
   "source": [
    "for i in a:\n",
    "    print(type(a[i-1]))"
   ]
  },
  {
   "cell_type": "code",
   "execution_count": 13,
   "id": "d48640bd",
   "metadata": {},
   "outputs": [
    {
     "name": "stdout",
     "output_type": "stream",
     "text": [
      "sum =  15\n"
     ]
    }
   ],
   "source": [
    "sum = 0\n",
    "for i in a:\n",
    "    sum = sum + a[i-1]\n",
    "\n",
    "print(\"sum = \",sum)"
   ]
  },
  {
   "cell_type": "code",
   "execution_count": 38,
   "id": "35cc8cde",
   "metadata": {},
   "outputs": [],
   "source": [
    "x1 = np.array([1,2,3,4.5,6])"
   ]
  },
  {
   "cell_type": "markdown",
   "id": "3e8cf695",
   "metadata": {},
   "source": [
    "##### x1"
   ]
  },
  {
   "cell_type": "code",
   "execution_count": 39,
   "id": "213405c9",
   "metadata": {},
   "outputs": [
    {
     "data": {
      "text/plain": [
       "numpy.ndarray"
      ]
     },
     "execution_count": 39,
     "metadata": {},
     "output_type": "execute_result"
    }
   ],
   "source": [
    "type(x1)"
   ]
  },
  {
   "cell_type": "code",
   "execution_count": 40,
   "id": "aa94c3d1",
   "metadata": {},
   "outputs": [
    {
     "data": {
      "text/plain": [
       "numpy.float64"
      ]
     },
     "execution_count": 40,
     "metadata": {},
     "output_type": "execute_result"
    }
   ],
   "source": [
    "type(x1[0])"
   ]
  },
  {
   "cell_type": "code",
   "execution_count": 41,
   "id": "de63d941",
   "metadata": {},
   "outputs": [],
   "source": [
    "farray = np.array([1,2,3,4,5],dtype='float32')"
   ]
  },
  {
   "cell_type": "code",
   "execution_count": 42,
   "id": "092aad1e",
   "metadata": {},
   "outputs": [
    {
     "data": {
      "text/plain": [
       "array([1., 2., 3., 4., 5.], dtype=float32)"
      ]
     },
     "execution_count": 42,
     "metadata": {},
     "output_type": "execute_result"
    }
   ],
   "source": [
    "farray\n"
   ]
  },
  {
   "cell_type": "code",
   "execution_count": 43,
   "id": "3665892f",
   "metadata": {},
   "outputs": [
    {
     "data": {
      "text/plain": [
       "numpy.ndarray"
      ]
     },
     "execution_count": 43,
     "metadata": {},
     "output_type": "execute_result"
    }
   ],
   "source": [
    "type(farray)"
   ]
  },
  {
   "cell_type": "code",
   "execution_count": 44,
   "id": "c4d0301c",
   "metadata": {},
   "outputs": [
    {
     "data": {
      "text/plain": [
       "numpy.float32"
      ]
     },
     "execution_count": 44,
     "metadata": {},
     "output_type": "execute_result"
    }
   ],
   "source": [
    "type(farray[1])"
   ]
  },
  {
   "cell_type": "code",
   "execution_count": 45,
   "id": "8656a832",
   "metadata": {},
   "outputs": [],
   "source": [
    "twod = np.array([range(i,i+4) for i in [4,4,4,4]])"
   ]
  },
  {
   "cell_type": "code",
   "execution_count": 46,
   "id": "1d4c9995",
   "metadata": {},
   "outputs": [
    {
     "data": {
      "text/plain": [
       "array([[4, 5, 6, 7],\n",
       "       [4, 5, 6, 7],\n",
       "       [4, 5, 6, 7],\n",
       "       [4, 5, 6, 7]])"
      ]
     },
     "execution_count": 46,
     "metadata": {},
     "output_type": "execute_result"
    }
   ],
   "source": [
    "twod"
   ]
  },
  {
   "cell_type": "code",
   "execution_count": 67,
   "id": "5c11be3e",
   "metadata": {},
   "outputs": [],
   "source": [
    "arr1 = np.array([range(i,i+10)for i in [1,5,10]])"
   ]
  },
  {
   "cell_type": "code",
   "execution_count": 65,
   "id": "e99a05e7",
   "metadata": {},
   "outputs": [
    {
     "data": {
      "text/plain": [
       "array([[ 1,  2,  3,  4,  5,  6,  7,  8,  9, 10],\n",
       "       [ 5,  6,  7,  8,  9, 10, 11, 12, 13, 14],\n",
       "       [10, 11, 12, 13, 14, 15, 16, 17, 18, 19]])"
      ]
     },
     "execution_count": 65,
     "metadata": {},
     "output_type": "execute_result"
    }
   ],
   "source": [
    "arr1"
   ]
  },
  {
   "cell_type": "code",
   "execution_count": 74,
   "id": "c3d3c565",
   "metadata": {},
   "outputs": [],
   "source": [
    "zero = np.zeros(10,dtype='int32')"
   ]
  },
  {
   "cell_type": "code",
   "execution_count": 71,
   "id": "1c0455bd",
   "metadata": {},
   "outputs": [
    {
     "data": {
      "text/plain": [
       "array([0., 0., 0., 0., 0., 0., 0., 0., 0., 0.])"
      ]
     },
     "execution_count": 71,
     "metadata": {},
     "output_type": "execute_result"
    }
   ],
   "source": [
    "zero"
   ]
  },
  {
   "cell_type": "code",
   "execution_count": 75,
   "id": "072d73ef",
   "metadata": {},
   "outputs": [
    {
     "data": {
      "text/plain": [
       "numpy.int32"
      ]
     },
     "execution_count": 75,
     "metadata": {},
     "output_type": "execute_result"
    }
   ],
   "source": [
    "type(zero[2])"
   ]
  },
  {
   "cell_type": "code",
   "execution_count": 83,
   "id": "2dffa4db",
   "metadata": {},
   "outputs": [],
   "source": [
    "one = np.ones((4,5),dtype='int32')"
   ]
  },
  {
   "cell_type": "code",
   "execution_count": 92,
   "id": "f80938bf",
   "metadata": {},
   "outputs": [
    {
     "name": "stdout",
     "output_type": "stream",
     "text": [
      "[1,1,1,1,1]\n",
      "[1,1,1,1,1]\n",
      "[1,1,1,1,1]\n",
      "[1,1,1,1,1]\n"
     ]
    }
   ],
   "source": [
    "for i in range(4):\n",
    "    print(\"[\",end=\"\")\n",
    "    for j in range(5):\n",
    "        print(one[i][j],end=\"\")\n",
    "        if (j!=4):\n",
    "            print(\",\",end=\"\")\n",
    "    print(\"]\")    "
   ]
  },
  {
   "cell_type": "code",
   "execution_count": 84,
   "id": "068b867b",
   "metadata": {},
   "outputs": [
    {
     "data": {
      "text/plain": [
       "array([[1, 1, 1, 1, 1],\n",
       "       [1, 1, 1, 1, 1],\n",
       "       [1, 1, 1, 1, 1],\n",
       "       [1, 1, 1, 1, 1]])"
      ]
     },
     "execution_count": 84,
     "metadata": {},
     "output_type": "execute_result"
    }
   ],
   "source": [
    "one"
   ]
  },
  {
   "cell_type": "code",
   "execution_count": 93,
   "id": "b2fbd01d",
   "metadata": {},
   "outputs": [
    {
     "data": {
      "text/plain": [
       "array([[12, 12, 12, 12, 12, 12],\n",
       "       [12, 12, 12, 12, 12, 12],\n",
       "       [12, 12, 12, 12, 12, 12]])"
      ]
     },
     "execution_count": 93,
     "metadata": {},
     "output_type": "execute_result"
    }
   ],
   "source": [
    "np.full((3,6),12)"
   ]
  },
  {
   "cell_type": "code",
   "execution_count": null,
   "id": "5fea842d",
   "metadata": {},
   "outputs": [],
   "source": []
  }
 ],
 "metadata": {
  "kernelspec": {
   "display_name": "Python 3 (ipykernel)",
   "language": "python",
   "name": "python3"
  },
  "language_info": {
   "codemirror_mode": {
    "name": "ipython",
    "version": 3
   },
   "file_extension": ".py",
   "mimetype": "text/x-python",
   "name": "python",
   "nbconvert_exporter": "python",
   "pygments_lexer": "ipython3",
   "version": "3.9.5"
  }
 },
 "nbformat": 4,
 "nbformat_minor": 5
}
