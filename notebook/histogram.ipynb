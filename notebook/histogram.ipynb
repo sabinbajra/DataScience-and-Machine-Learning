{
 "cells": [
  {
   "cell_type": "code",
   "execution_count": 7,
   "id": "7f4c32b0",
   "metadata": {},
   "outputs": [],
   "source": [
    "import matplotlib.pyplot as plt\n",
    "                              \n",
    "%matplotlib inline\n",
    "\n"
   ]
  },
  {
   "cell_type": "code",
   "execution_count": 17,
   "id": "16df539d",
   "metadata": {},
   "outputs": [
    {
     "data": {
      "text/plain": [
       "(array([[6., 2., 4.],\n",
       "        [4., 4., 2.]]),\n",
       " array([ 80, 100, 125, 150]),\n",
       " <a list of 2 BarContainer objects>)"
      ]
     },
     "execution_count": 17,
     "metadata": {},
     "output_type": "execute_result"
    },
    {
     "data": {
      "image/png": "[encoded data removed]",
      "text/plain": [
       "<Figure size 432x288 with 1 Axes>"
      ]
     },
     "metadata": {
      "needs_background": "light"
     },
     "output_type": "display_data"
    }
   ],
   "source": [
    "bloodsugar_women = [100,85,125,70,100,88,95,75,145,110,77,82,100]\n",
    "bloodsugar_men = [123,85,90,150,149,88,93,115,135,81,77,82,129]\n",
    "plt.title('Blood Sugar Analysis')\n",
    "plt.xlabel('Sugar Value')\n",
    "plt.ylabel('No of Patients')\n",
    "plt.hist([bloodsugar_men, bloodsugar_women],bins=[80,100,125,150], rwidth=0.95, color=['green','red'],\n",
    "         label=['men','women'],orientation='vertical')\n"
   ]
  },
  {
   "cell_type": "code",
   "execution_count": null,
   "id": "6d260911",
   "metadata": {},
   "outputs": [],
   "source": []
  }
 ],
 "metadata": {
  "kernelspec": {
   "display_name": "Python 3 (ipykernel)",
   "language": "python",
   "name": "python3"
  },
  "language_info": {
   "codemirror_mode": {
    "name": "ipython",
    "version": 3
   },
   "file_extension": ".py",
   "mimetype": "text/x-python",
   "name": "python",
   "nbconvert_exporter": "python",
   "pygments_lexer": "ipython3",
   "version": "3.9.5"
  }
 },
 "nbformat": 4,
 "nbformat_minor": 5
}
