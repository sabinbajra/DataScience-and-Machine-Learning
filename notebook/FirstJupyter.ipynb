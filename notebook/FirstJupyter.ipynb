{
 "cells": [
  {
   "cell_type": "code",
   "execution_count": 38,
   "id": "82fa7cec",
   "metadata": {},
   "outputs": [
    {
     "name": "stdout",
     "output_type": "stream",
     "text": [
      "Hello, World!\n"
     ]
    }
   ],
   "source": [
    "print(\"Hello, World!\")"
   ]
  },
  {
   "cell_type": "code",
   "execution_count": 5,
   "id": "9035e688",
   "metadata": {},
   "outputs": [],
   "source": [
    "def printname(name):\n",
    "    print(\"Your name is\" , name) "
   ]
  },
  {
   "cell_type": "code",
   "execution_count": 7,
   "id": "5b8679aa",
   "metadata": {},
   "outputs": [
    {
     "name": "stdout",
     "output_type": "stream",
     "text": [
      "Your name is Sabin Bajracharya\n"
     ]
    }
   ],
   "source": [
    " printname(\"Sabin Bajracharya\")"
   ]
  },
  {
   "cell_type": "code",
   "execution_count": 9,
   "id": "25cd40d8",
   "metadata": {},
   "outputs": [],
   "source": [
    "def square(number):\n",
    "    print(\"Calculating the square of the number\")\n",
    "    return number ** 2"
   ]
  },
  {
   "cell_type": "code",
   "execution_count": 37,
   "id": "2dd85331",
   "metadata": {},
   "outputs": [
    {
     "name": "stdout",
     "output_type": "stream",
     "text": [
      "Enter integer number::3\n",
      "Calculating the square of the number\n",
      "9\n"
     ]
    }
   ],
   "source": [
    "a = int(input(\"Enter integer number::\"))\n",
    "print(square(a))"
   ]
  },
  {
   "cell_type": "code",
   "execution_count": 16,
   "id": "42883d06",
   "metadata": {},
   "outputs": [
    {
     "name": "stdout",
     "output_type": "stream",
     "text": [
      "Inside the myFunction\n"
     ]
    }
   ],
   "source": [
    "def myFunction():\n",
    "    print(\"Inside the myFunction\")\n",
    "    \n",
    "myFunction()"
   ]
  },
  {
   "cell_type": "code",
   "execution_count": 18,
   "id": "1e08999c",
   "metadata": {},
   "outputs": [],
   "source": [
    "def printString(str):\n",
    "    print(\"The enter string is \", str)"
   ]
  },
  {
   "cell_type": "code",
   "execution_count": 19,
   "id": "4c7f6feb",
   "metadata": {},
   "outputs": [
    {
     "name": "stdout",
     "output_type": "stream",
     "text": [
      "The enter string is  Sabin\n",
      "The enter string is  Hello\n",
      "The enter string is  Sabin is my name\n",
      "The enter string is  I am practising function\n"
     ]
    }
   ],
   "source": [
    "printString(\"Sabin\")\n",
    "printString(\"Hello\")\n",
    "printString(\"Sabin is my name\")\n",
    "printString(\"I am practising function\")"
   ]
  },
  {
   "cell_type": "code",
   "execution_count": 22,
   "id": "76a2163b",
   "metadata": {},
   "outputs": [],
   "source": [
    "def multipleArguments(fname,lname,address,telephone,email):\n",
    "    print(\"Your name is \" + fname + \" \" + lname)\n",
    "    print(\"Address:: \" + address)\n",
    "    print(\"Telephone:: \" , telephone)\n",
    "    print(\"Email:: \" + email)"
   ]
  },
  {
   "cell_type": "code",
   "execution_count": 23,
   "id": "de6ad8b6",
   "metadata": {},
   "outputs": [
    {
     "name": "stdout",
     "output_type": "stream",
     "text": [
      "Your name is sabin Bajracharya\n",
      "Address:: Lagan Tole,Kathmandu,Nepal\n",
      "Telephone::  215276\n",
      "Email:: sabin1129@hotmail.com\n"
     ]
    }
   ],
   "source": [
    "multipleArguments(\"sabin\",\"Bajracharya\",\"Lagan Tole,Kathmandu,Nepal\",215276,\"sabin1129@hotmail.com\")"
   ]
  },
  {
   "cell_type": "code",
   "execution_count": 26,
   "id": "ecf0d8a2",
   "metadata": {},
   "outputs": [],
   "source": [
    "def array(*args):\n",
    "    for x in args:\n",
    "        print(x)"
   ]
  },
  {
   "cell_type": "code",
   "execution_count": 27,
   "id": "aea5aec9",
   "metadata": {},
   "outputs": [
    {
     "name": "stdout",
     "output_type": "stream",
     "text": [
      "Sabin\n",
      "Rabin\n",
      "Harry\n",
      "Sangamita\n"
     ]
    }
   ],
   "source": [
    "array(\"Sabin\",\"Rabin\",\"Harry\",\"Sangamita\")"
   ]
  },
  {
   "cell_type": "code",
   "execution_count": 29,
   "id": "25775bc0",
   "metadata": {},
   "outputs": [],
   "source": [
    "def sumIntegers(*num):\n",
    "    total = 0\n",
    "    for x in num:\n",
    "        total = total + x\n",
    "    return total"
   ]
  },
  {
   "cell_type": "code",
   "execution_count": 30,
   "id": "bf3baf12",
   "metadata": {},
   "outputs": [
    {
     "name": "stdout",
     "output_type": "stream",
     "text": [
      "Sum of the input number is  8\n"
     ]
    }
   ],
   "source": [
    "print(\"Sum of the input number is \", sumIntegers(1,1,1,2,3))"
   ]
  },
  {
   "cell_type": "code",
   "execution_count": 33,
   "id": "f1dd6f39",
   "metadata": {},
   "outputs": [],
   "source": [
    "def max(a,b):\n",
    "    m = 0\n",
    "    if a > b:\n",
    "        m = a\n",
    "    else:\n",
    "        m = b\n",
    "    return m "
   ]
  },
  {
   "cell_type": "code",
   "execution_count": 1,
   "id": "e66f3504",
   "metadata": {},
   "outputs": [
    {
     "name": "stdout",
     "output_type": "stream",
     "text": [
      "Max is  15\n"
     ]
    }
   ],
   "source": [
    "print(\"Max is \", max(15,10))"
   ]
  },
  {
   "cell_type": "code",
   "execution_count": 2,
   "id": "891ab7ea",
   "metadata": {},
   "outputs": [
    {
     "name": "stdout",
     "output_type": "stream",
     "text": [
      "Help on built-in function len in module builtins:\n",
      "\n",
      "len(obj, /)\n",
      "    Return the number of items in a container.\n",
      "\n"
     ]
    }
   ],
   "source": [
    "help(len)\n",
    "    \n",
    "        "
   ]
  },
  {
   "cell_type": "code",
   "execution_count": 3,
   "id": "2cd30b27",
   "metadata": {},
   "outputs": [],
   "source": [
    "len?"
   ]
  },
  {
   "cell_type": "code",
   "execution_count": 4,
   "id": "2b278535",
   "metadata": {},
   "outputs": [],
   "source": [
    "l=[1,2,3,4,5]"
   ]
  },
  {
   "cell_type": "code",
   "execution_count": 26,
   "id": "3ae4fa9b",
   "metadata": {},
   "outputs": [],
   "source": [
    "l.insert?\n"
   ]
  },
  {
   "cell_type": "code",
   "execution_count": 7,
   "id": "ceabc056",
   "metadata": {},
   "outputs": [],
   "source": [
    "l.insert(2,100)"
   ]
  },
  {
   "cell_type": "code",
   "execution_count": 14,
   "id": "b281c83e",
   "metadata": {},
   "outputs": [],
   "source": [
    "l?"
   ]
  },
  {
   "cell_type": "code",
   "execution_count": 10,
   "id": "879fc70e",
   "metadata": {},
   "outputs": [],
   "source": [
    "l.insert(1,99)"
   ]
  },
  {
   "cell_type": "code",
   "execution_count": 13,
   "id": "baae15ec",
   "metadata": {},
   "outputs": [],
   "source": [
    "l.insert(1,23)"
   ]
  },
  {
   "cell_type": "code",
   "execution_count": 15,
   "id": "89414d61",
   "metadata": {},
   "outputs": [
    {
     "data": {
      "text/plain": [
       "[]"
      ]
     },
     "execution_count": 15,
     "metadata": {},
     "output_type": "execute_result"
    }
   ],
   "source": [
    "list()"
   ]
  },
  {
   "cell_type": "code",
   "execution_count": 16,
   "id": "ba16444f",
   "metadata": {},
   "outputs": [],
   "source": [
    "a = list()"
   ]
  },
  {
   "cell_type": "code",
   "execution_count": 24,
   "id": "b1793d3f",
   "metadata": {},
   "outputs": [],
   "source": [
    "a??\n"
   ]
  },
  {
   "cell_type": "code",
   "execution_count": 22,
   "id": "30b06403",
   "metadata": {},
   "outputs": [],
   "source": [
    "maxi?\n"
   ]
  },
  {
   "cell_type": "code",
   "execution_count": 29,
   "id": "f3454c4d",
   "metadata": {},
   "outputs": [],
   "source": [
    "def maxi(a,b):\n",
    "    \"\"\" Function to return the maximum value among 2 values \"\"\"\n",
    "    m = 0\n",
    "    if a > b:\n",
    "        m = a\n",
    "    else:\n",
    "        m = b\n",
    "    return m "
   ]
  },
  {
   "cell_type": "code",
   "execution_count": 30,
   "id": "6b3654d7",
   "metadata": {},
   "outputs": [],
   "source": [
    "maxi??"
   ]
  },
  {
   "cell_type": "code",
   "execution_count": 31,
   "id": "cf7a8f05",
   "metadata": {},
   "outputs": [],
   "source": [
    "maxi?"
   ]
  },
  {
   "cell_type": "code",
   "execution_count": 32,
   "id": "27d1df3a",
   "metadata": {},
   "outputs": [],
   "source": [
    "len??"
   ]
  },
  {
   "cell_type": "code",
   "execution_count": 39,
   "id": "ca457d4c",
   "metadata": {},
   "outputs": [
    {
     "data": {
      "text/plain": [
       "'1.21.4'"
      ]
     },
     "execution_count": 39,
     "metadata": {},
     "output_type": "execute_result"
    }
   ],
   "source": [
    "import numpy\n",
    "numpy.__version__"
   ]
  },
  {
   "cell_type": "code",
   "execution_count": 40,
   "id": "da01652e",
   "metadata": {},
   "outputs": [],
   "source": [
    "import numpy as np"
   ]
  },
  {
   "cell_type": "code",
   "execution_count": 41,
   "id": "f07901c1",
   "metadata": {},
   "outputs": [],
   "source": [
    "np?\n"
   ]
  },
  {
   "cell_type": "code",
   "execution_count": 42,
   "id": "2e7af6fd",
   "metadata": {},
   "outputs": [],
   "source": [
    "result = 0\n",
    "for i in range(100):\n",
    "    result += i\n"
   ]
  },
  {
   "cell_type": "code",
   "execution_count": 43,
   "id": "5a33a1c8",
   "metadata": {},
   "outputs": [],
   "source": [
    "result?\n"
   ]
  },
  {
   "cell_type": "code",
   "execution_count": 57,
   "id": "63124601",
   "metadata": {},
   "outputs": [
    {
     "name": "stdout",
     "output_type": "stream",
     "text": [
      "X is  12\n"
     ]
    }
   ],
   "source": [
    "x=12\n",
    "print(\"X is \", x)\n"
   ]
  },
  {
   "cell_type": "code",
   "execution_count": 60,
   "id": "e4ca4417",
   "metadata": {},
   "outputs": [
    {
     "name": "stdout",
     "output_type": "stream",
     "text": [
      "X is  Hello\n"
     ]
    }
   ],
   "source": [
    "x = \"Hello\"\n",
    "print(\"X is \", x)"
   ]
  },
  {
   "cell_type": "code",
   "execution_count": 61,
   "id": "a47601a3",
   "metadata": {},
   "outputs": [],
   "source": [
    "x?"
   ]
  },
  {
   "cell_type": "code",
   "execution_count": 62,
   "id": "91f035cd",
   "metadata": {},
   "outputs": [
    {
     "data": {
      "text/plain": [
       "[0, 1, 2, 3, 4, 5, 6, 7, 8, 9, 10, 11, 12, 13, 14, 15, 16, 17, 18, 19]"
      ]
     },
     "execution_count": 62,
     "metadata": {},
     "output_type": "execute_result"
    }
   ],
   "source": [
    "I = list(range(20))\n",
    "I"
   ]
  },
  {
   "cell_type": "code",
   "execution_count": 65,
   "id": "4edcb782",
   "metadata": {},
   "outputs": [
    {
     "data": {
      "text/plain": [
       "int"
      ]
     },
     "execution_count": 65,
     "metadata": {},
     "output_type": "execute_result"
    }
   ],
   "source": [
    "type(I[5])"
   ]
  },
  {
   "cell_type": "code",
   "execution_count": 69,
   "id": "80c8d84b",
   "metadata": {},
   "outputs": [],
   "source": [
    "I = [1,'a',2.334,\"Hello\",2]\n",
    "    "
   ]
  },
  {
   "cell_type": "code",
   "execution_count": 70,
   "id": "547133fe",
   "metadata": {},
   "outputs": [
    {
     "data": {
      "text/plain": [
       "[1, 'a', 2.334, 'Hello', 2]"
      ]
     },
     "execution_count": 70,
     "metadata": {},
     "output_type": "execute_result"
    }
   ],
   "source": [
    "I"
   ]
  },
  {
   "cell_type": "code",
   "execution_count": 74,
   "id": "3f900dcb",
   "metadata": {},
   "outputs": [
    {
     "data": {
      "text/plain": [
       "int"
      ]
     },
     "execution_count": 74,
     "metadata": {},
     "output_type": "execute_result"
    }
   ],
   "source": [
    "type(I[0])"
   ]
  },
  {
   "cell_type": "code",
   "execution_count": 75,
   "id": "0a195872",
   "metadata": {},
   "outputs": [
    {
     "data": {
      "text/plain": [
       "float"
      ]
     },
     "execution_count": 75,
     "metadata": {},
     "output_type": "execute_result"
    }
   ],
   "source": [
    "type(I[2])"
   ]
  },
  {
   "cell_type": "code",
   "execution_count": 79,
   "id": "a1d8dabb",
   "metadata": {},
   "outputs": [
    {
     "data": {
      "text/plain": [
       "str"
      ]
     },
     "execution_count": 79,
     "metadata": {},
     "output_type": "execute_result"
    }
   ],
   "source": [
    "type(I[1])"
   ]
  },
  {
   "cell_type": "code",
   "execution_count": 78,
   "id": "94cf57de",
   "metadata": {},
   "outputs": [
    {
     "data": {
      "text/plain": [
       "[int, str, float, str, int]"
      ]
     },
     "execution_count": 78,
     "metadata": {},
     "output_type": "execute_result"
    }
   ],
   "source": [
    "[type(item) for item in I]"
   ]
  },
  {
   "cell_type": "code",
   "execution_count": 81,
   "id": "2c4f7f74",
   "metadata": {},
   "outputs": [
    {
     "data": {
      "text/plain": [
       "array([1, 2, 3, 4, 5])"
      ]
     },
     "execution_count": 81,
     "metadata": {},
     "output_type": "execute_result"
    }
   ],
   "source": [
    "np.array([1,2,3,4,5])"
   ]
  },
  {
   "cell_type": "code",
   "execution_count": 82,
   "id": "9ad1674f",
   "metadata": {},
   "outputs": [
    {
     "data": {
      "text/plain": [
       "array([ 1. ,  2.3,  4. , 56. ])"
      ]
     },
     "execution_count": 82,
     "metadata": {},
     "output_type": "execute_result"
    }
   ],
   "source": [
    "np.array([1,2.3,4,56])"
   ]
  },
  {
   "cell_type": "code",
   "execution_count": 89,
   "id": "021575f5",
   "metadata": {},
   "outputs": [
    {
     "data": {
      "text/plain": [
       "array([[ 1,  2,  3,  4,  5,  6,  7,  8,  9, 10],\n",
       "       [ 3,  4,  5,  6,  7,  8,  9, 10, 11, 12],\n",
       "       [ 5,  6,  7,  8,  9, 10, 11, 12, 13, 14],\n",
       "       [ 7,  8,  9, 10, 11, 12, 13, 14, 15, 16]])"
      ]
     },
     "execution_count": 89,
     "metadata": {},
     "output_type": "execute_result"
    }
   ],
   "source": [
    "np.array([range(i,i+10) for i in [1,3,5,7]])"
   ]
  },
  {
   "cell_type": "code",
   "execution_count": 86,
   "id": "919bba8e",
   "metadata": {},
   "outputs": [],
   "source": [
    "np?\n"
   ]
  },
  {
   "cell_type": "code",
   "execution_count": null,
   "id": "56e3086e",
   "metadata": {},
   "outputs": [],
   "source": []
  }
 ],
 "metadata": {
  "kernelspec": {
   "display_name": "Python 3 (ipykernel)",
   "language": "python",
   "name": "python3"
  },
  "language_info": {
   "codemirror_mode": {
    "name": "ipython",
    "version": 3
   },
   "file_extension": ".py",
   "mimetype": "text/x-python",
   "name": "python",
   "nbconvert_exporter": "python",
   "pygments_lexer": "ipython3",
   "version": "3.9.5"
  }
 },
 "nbformat": 4,
 "nbformat_minor": 5
}
