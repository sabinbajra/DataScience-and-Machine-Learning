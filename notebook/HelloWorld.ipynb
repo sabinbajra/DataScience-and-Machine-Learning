{
 "cells": [
  {
   "cell_type": "code",
   "execution_count": 268,
   "id": "e3745e26",
   "metadata": {},
   "outputs": [
    {
     "name": "stderr",
     "output_type": "stream",
     "text": [
      "C:\\Users\\sabin\\AppData\\Roaming\\Python\\Python39\\site-packages\\sklearn\\base.py:450: UserWarning: X does not have valid feature names, but DecisionTreeClassifier was fitted with feature names\n",
      "  warnings.warn(\n"
     ]
    },
    {
     "data": {
      "text/plain": [
       "array(['HipHop'], dtype=object)"
      ]
     },
     "execution_count": 268,
     "metadata": {},
     "output_type": "execute_result"
    }
   ],
   "source": [
    "# importing dataset\n",
    "import pandas as pd\n",
    "from sklearn.tree import DecisionTreeClassifier\n",
    "from sklearn.model_selection import train_test_split\n",
    "from sklearn.metrics import accuracy_score\n",
    "import joblib\n",
    "\n",
    "\n",
    "\n",
    "# music_data = pd.read_csv('music.csv')\n",
    "\n",
    "# # cleaning the data / preparing the data\n",
    "# # removing duplicates, null values / input set and output set\n",
    "# X = music_data.drop(columns=['genre'])\n",
    "\n",
    "# # creating output set\n",
    "# y = music_data['genre']\n",
    "\n",
    "# # training the machine learning\n",
    "# X_train, X_test, y_train,y_test = train_test_split(X,y,test_size=0.1)\n",
    "\n",
    "# # creating a model using a machine learning algorithms\n",
    "# # we are using a decision tree algorithm\n",
    "# model = DecisionTreeClassifier()\n",
    "# model.fit(X_train, y_train)\n",
    "\n",
    "model = joblib.load('music-recommender.joblig')\n",
    "predictions = model.predict([[21,1]])\n",
    "predictions\n",
    "# score = accuracy_score(y_test, predictions)\n"
   ]
  },
  {
   "cell_type": "code",
   "execution_count": 271,
   "id": "bbbd01e5",
   "metadata": {},
   "outputs": [],
   "source": [
    "# importing dataset\n",
    "import pandas as pd\n",
    "from sklearn.tree import DecisionTreeClassifier\n",
    "from sklearn import tree\n",
    "\n",
    "\n",
    "music_data = pd.read_csv('music.csv')\n",
    "\n",
    "# # cleaning the data / preparing the data\n",
    "# # removing duplicates, null values / input set and output set\n",
    "X = music_data.drop(columns=['genre'])\n",
    "\n",
    "# # creating output set\n",
    "y = music_data['genre']\n",
    "\n",
    "# # training the machine learning\n",
    "# X_train, X_test, y_train,y_test = train_test_split(X,y,test_size=0.1)\n",
    "\n",
    "# # creating a model using a machine learning algorithms\n",
    "# # we are using a decision tree algorithm\n",
    "# model = DecisionTreeClassifier()\n",
    "# model.fit(X_train, y_train)\n",
    "model = DecisionTreeClassifier()\n",
    "model.fit(X, y)\n",
    "\n",
    "tree.export_graphviz(model, out_file='music-recommender.dot', feature_names=['age', 'gender'], class_names=sorted(y.unique()),\n",
    "                     label='all',rounded=True,filled=True)"
   ]
  },
  {
   "cell_type": "code",
   "execution_count": null,
   "id": "76cb91d6",
   "metadata": {},
   "outputs": [],
   "source": []
  }
 ],
 "metadata": {
  "kernelspec": {
   "display_name": "Python 3 (ipykernel)",
   "language": "python",
   "name": "python3"
  },
  "language_info": {
   "codemirror_mode": {
    "name": "ipython",
    "version": 3
   },
   "file_extension": ".py",
   "mimetype": "text/x-python",
   "name": "python",
   "nbconvert_exporter": "python",
   "pygments_lexer": "ipython3",
   "version": "3.9.5"
  }
 },
 "nbformat": 4,
 "nbformat_minor": 5
}
